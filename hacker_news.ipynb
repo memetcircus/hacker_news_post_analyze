{
 "cells": [
  {
   "cell_type": "markdown",
   "metadata": {
    "jupyter": {
     "outputs_hidden": true
    }
   },
   "source": [
    "# Hacker news post analyze (Part of Certification Program)\n",
    "* Users submit Ask HN posts to ask the Hacker News community a specific question.\n",
    "* Users submit Show HN posts to show the Hacker News community a project, product, or just something interesting\n",
    "\n",
    "## Aim\n",
    "* Do Ask HN or Show HN receive more comments on average?\n",
    "* Do posts created at a certain time receive more comments on average?\n",
    "\n",
    "## Dataset\n",
    "* **id**: the unique identifier from Hacker News for the post\n",
    "* **title**: the title of the post\n",
    "* **url**: the URL that the posts links to, if the post has a URL\n",
    "* **num_points**: the number of points the post acquired, calculated as the total number of upvotes minus the total number of downvotes\n",
    "* **num_comments**: the number of comments on the post\n",
    "* **author**: the username of the person who submitted the post\n",
    "* **created_at**: the date and time of the post's submission (the time zone is Eastern Time in the US)\n"
   ]
  },
  {
   "cell_type": "code",
   "execution_count": 31,
   "metadata": {},
   "outputs": [
    {
     "name": "stdout",
     "output_type": "stream",
     "text": [
      "[['id', 'title', 'url', 'num_points', 'num_comments', 'author', 'created_at'], ['12224879', 'Interactive Dynamic Video', 'http://www.interactivedynamicvideo.com/', '386', '52', 'ne0phyte', '8/4/2016 11:52'], ['10975351', 'How to Use Open Source and Shut the Fuck Up at the Same Time', 'http://hueniverse.com/2016/01/26/how-to-use-open-source-and-shut-the-fuck-up-at-the-same-time/', '39', '10', 'josep2', '1/26/2016 19:30']]\n"
     ]
    }
   ],
   "source": [
    "# Open dataset, create a list of lists and display first five rows.\n",
    "opened_file = open(\"hacker_news.csv\")\n",
    "from csv import reader\n",
    "read_file = reader(opened_file)\n",
    "hn = list(read_file)\n",
    "print(hn[:3])"
   ]
  },
  {
   "cell_type": "code",
   "execution_count": 32,
   "metadata": {},
   "outputs": [
    {
     "name": "stdout",
     "output_type": "stream",
     "text": [
      "[['12224879', 'Interactive Dynamic Video', 'http://www.interactivedynamicvideo.com/', '386', '52', 'ne0phyte', '8/4/2016 11:52'], ['10975351', 'How to Use Open Source and Shut the Fuck Up at the Same Time', 'http://hueniverse.com/2016/01/26/how-to-use-open-source-and-shut-the-fuck-up-at-the-same-time/', '39', '10', 'josep2', '1/26/2016 19:30']]\n"
     ]
    }
   ],
   "source": [
    "# Extract headers and remove it from the main data set\n",
    "headers = hn[:1]\n",
    "hn = hn[1:]\n",
    "print(hn[:2])"
   ]
  },
  {
   "cell_type": "code",
   "execution_count": 33,
   "metadata": {},
   "outputs": [
    {
     "name": "stdout",
     "output_type": "stream",
     "text": [
      "ask_posts: 1744, show_posts: 1162, other_posts: 17194\n"
     ]
    }
   ],
   "source": [
    "#Divide posts as ask, show and other\n",
    "ask_posts = []\n",
    "show_posts = []\n",
    "other_posts = []\n",
    "\n",
    "for row in hn:\n",
    "    title = row[1].lower()\n",
    "    if title.startswith(\"ask hn\"):\n",
    "        ask_posts.append(row)\n",
    "    elif title.startswith(\"show hn\"):\n",
    "        show_posts.append(row)\n",
    "    else:\n",
    "        other_posts.append(row)\n",
    "        \n",
    "print(f\"ask_posts: {len(ask_posts)}, show_posts: {len(show_posts)}, other_posts: {len(other_posts)}\")    "
   ]
  },
  {
   "cell_type": "code",
   "execution_count": 34,
   "metadata": {},
   "outputs": [
    {
     "name": "stdout",
     "output_type": "stream",
     "text": [
      "average ask comments: 14.038417431192661\n",
      "Average show comments: 10.31669535283993\n"
     ]
    }
   ],
   "source": [
    "# Find the total number of comments in ask posts\n",
    "total_ask_comments = 0\n",
    "\n",
    "for row in ask_posts:\n",
    "    total_ask_comments += int(row[4])\n",
    "\n",
    "avg_ask_comments = total_ask_comments / len(ask_posts)\n",
    "\n",
    "print(f\"average ask comments: {avg_ask_comments}\")\n",
    "    \n",
    "# Find the total number of comments in show posts\n",
    "total_show_comments = 0\n",
    "\n",
    "for row in show_posts:\n",
    "    total_show_comments += int(row[4])\n",
    "    \n",
    "avg_show_comments = total_show_comments / len(show_posts)\n",
    "\n",
    "print(f\"Average show comments: {avg_show_comments}\")\n"
   ]
  },
  {
   "cell_type": "markdown",
   "metadata": {},
   "source": [
    "On average, ask posts receive more comments than show posts. Since ask posts are more likely to receive comments, we'll focus our remaining analysis just on these posts.\n",
    "We'll determine if ask posts created at a certain time are more likely to attract comments. We'll use the following steps to perform this analysis:\n",
    "\n",
    "* Calculate the number of ask posts created in each hour of the day, along with the number of comments received.\n",
    "* Calculate the average number of comments ask posts receive by hour created."
   ]
  },
  {
   "cell_type": "code",
   "execution_count": 52,
   "metadata": {},
   "outputs": [],
   "source": [
    "from datetime import datetime as dt\n",
    "import pytz\n",
    "\n",
    "result_list = []\n",
    "\n",
    "for row in ask_posts:\n",
    "    creation_time = row[6]\n",
    "    number_of_comments = int(row[4])\n",
    "    result_list.append([creation_time,number_of_comments])\n",
    "\n",
    "#contains the number of ask posts created during each hour of the day.\n",
    "counts_by_hour = {}\n",
    "\n",
    "#contains the corresponding number of comments ask posts created \n",
    "#at each hour received.\n",
    "comments_by_hour = {}\n",
    "\n",
    "#change the eastern US zone to local \n",
    "my_local_tmz = pytz.timezone('Europe/Istanbul')\n",
    "\n",
    "for row in result_list:\n",
    "    d1 = dt.strptime(row[0],\"%m/%d/%Y %H:%M\")\n",
    "    my_local_time = d1.astimezone(my_local_tmz)\n",
    "    \n",
    "    hour = my_local_time.strftime(\"%H\")\n",
    "    if hour not in counts_by_hour:\n",
    "        counts_by_hour[hour] = 1\n",
    "        comments_by_hour[hour] = int(row[1])\n",
    "    else:\n",
    "        counts_by_hour[hour] += 1\n",
    "        comments_by_hour[hour] += int(row[1])\n",
    "\n"
   ]
  },
  {
   "cell_type": "markdown",
   "metadata": {},
   "source": [
    "Now, calculating the average number of comments per post for posts created during each hour of the day."
   ]
  },
  {
   "cell_type": "code",
   "execution_count": 53,
   "metadata": {},
   "outputs": [
    {
     "name": "stdout",
     "output_type": "stream",
     "text": [
      "[['12', 8.970588235294118], ['15', 10.342105263157896], ['13', 12.403225806451612], ['17', 17.017241379310345], ['19', 12.112244897959183], ['02', 7.764705882352941], ['11', 9.885245901639344], ['20', 14.0], ['16', 13.247191011235955], ['18', 38.554621848739494], ['23', 26.71276595744681], ['00', 8.927083333333334], ['22', 8.121212121212121], ['05', 23.63157894736842], ['14', 11.095238095238095], ['04', 8.587301587301587], ['21', 13.10576923076923], ['06', 8.183673469387756], ['07', 7.148936170212766], ['03', 11.51063829787234], ['01', 7.5], ['08', 10.386363636363637], ['09', 8.85], ['10', 6.861111111111111]]\n"
     ]
    }
   ],
   "source": [
    "avg_by_hour = []\n",
    "\n",
    "for hour in counts_by_hour:\n",
    "    avg = comments_by_hour[hour] / counts_by_hour[hour]\n",
    "    avg_by_hour.append([hour,avg])\n",
    "\n",
    "print(avg_by_hour)"
   ]
  },
  {
   "cell_type": "code",
   "execution_count": 54,
   "metadata": {},
   "outputs": [
    {
     "name": "stdout",
     "output_type": "stream",
     "text": [
      "[[38.554621848739494, '18'], [26.71276595744681, '23'], [23.63157894736842, '05'], [17.017241379310345, '17'], [14.0, '20']]\n"
     ]
    }
   ],
   "source": [
    "swap_avg_by_hour = []\n",
    "\n",
    "for row in avg_by_hour:\n",
    "    swap_avg_by_hour.append([row[1],row[0]])\n",
    "\n",
    "sorted_swap = sorted(swap_avg_by_hour, key=None, reverse=True)\n",
    "\n",
    "#Top 5 Hours for Ask Posts Comments\n",
    "print(sorted_swap[:5])"
   ]
  },
  {
   "cell_type": "code",
   "execution_count": 55,
   "metadata": {},
   "outputs": [
    {
     "name": "stdout",
     "output_type": "stream",
     "text": [
      "18:00 : 38.55 average comments per post\n",
      "23:00 : 26.71 average comments per post\n",
      "05:00 : 23.63 average comments per post\n",
      "17:00 : 17.02 average comments per post\n",
      "20:00 : 14.00 average comments per post\n"
     ]
    }
   ],
   "source": [
    "for row in sorted_swap[:5]:\n",
    "    time = dt.strptime(row[1],\"%H\").strftime(\"%H:00\")\n",
    "    print(f\"{time} : {row[0]:.2f} average comments per post\")\n",
    "    "
   ]
  },
  {
   "cell_type": "markdown",
   "metadata": {},
   "source": [
    "We should create posts at 18:00 to receive highest comments."
   ]
  },
  {
   "cell_type": "code",
   "execution_count": null,
   "metadata": {},
   "outputs": [],
   "source": []
  }
 ],
 "metadata": {
  "kernelspec": {
   "display_name": "Python 3 (ipykernel)",
   "language": "python",
   "name": "python3"
  },
  "language_info": {
   "codemirror_mode": {
    "name": "ipython",
    "version": 3
   },
   "file_extension": ".py",
   "mimetype": "text/x-python",
   "name": "python",
   "nbconvert_exporter": "python",
   "pygments_lexer": "ipython3",
   "version": "3.11.0rc1"
  }
 },
 "nbformat": 4,
 "nbformat_minor": 4
}
